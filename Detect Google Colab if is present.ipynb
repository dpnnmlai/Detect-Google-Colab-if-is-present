{
 "cells": [
  {
   "cell_type": "markdown",
   "id": "f32a8f11",
   "metadata": {},
   "source": [
    " # Google Colab making sure is running with latest version of tensorflow"
   ]
  },
  {
   "cell_type": "code",
   "execution_count": 1,
   "id": "1cebcb38",
   "metadata": {},
   "outputs": [
    {
     "name": "stdout",
     "output_type": "stream",
     "text": [
      "Note: Not using Google Colab\n"
     ]
    }
   ],
   "source": [
    "# Detect Google Colab if is present\n",
    "\n",
    "try: \n",
    "    from google.colab import drive\n",
    "    Colab = True\n",
    "    print(\"Note: Using Google Colab\")\n",
    "    %tensorflow_version 2.x\n",
    "except:\n",
    "    print(\"Note: Not using Google Colab\")\n",
    "    Colab=False"
   ]
  },
  {
   "cell_type": "code",
   "execution_count": null,
   "id": "594f1853",
   "metadata": {},
   "outputs": [],
   "source": []
  },
  {
   "cell_type": "code",
   "execution_count": null,
   "id": "9dfeb33e",
   "metadata": {},
   "outputs": [],
   "source": []
  },
  {
   "cell_type": "code",
   "execution_count": null,
   "id": "104c8ca3",
   "metadata": {},
   "outputs": [],
   "source": []
  },
  {
   "cell_type": "code",
   "execution_count": null,
   "id": "f2127d78",
   "metadata": {},
   "outputs": [],
   "source": []
  },
  {
   "cell_type": "code",
   "execution_count": null,
   "id": "ba983031",
   "metadata": {},
   "outputs": [],
   "source": []
  }
 ],
 "metadata": {
  "kernelspec": {
   "display_name": "Python 3 (ipykernel)",
   "language": "python",
   "name": "python3"
  },
  "language_info": {
   "codemirror_mode": {
    "name": "ipython",
    "version": 3
   },
   "file_extension": ".py",
   "mimetype": "text/x-python",
   "name": "python",
   "nbconvert_exporter": "python",
   "pygments_lexer": "ipython3",
   "version": "3.9.12"
  }
 },
 "nbformat": 4,
 "nbformat_minor": 5
}
